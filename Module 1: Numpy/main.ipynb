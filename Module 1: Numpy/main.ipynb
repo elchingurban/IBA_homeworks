{
 "cells": [
  {
   "cell_type": "markdown",
   "id": "9a66fa32",
   "metadata": {},
   "source": [
    "## Importing Libraries"
   ]
  },
  {
   "cell_type": "code",
   "execution_count": 1,
   "id": "fe0e8103",
   "metadata": {
    "scrolled": true
   },
   "outputs": [],
   "source": [
    "import numpy as np"
   ]
  },
  {
   "cell_type": "markdown",
   "id": "d41cc9d8",
   "metadata": {},
   "source": [
    "### 1.Find the sum of all numbers from 1 to 500"
   ]
  },
  {
   "cell_type": "code",
   "execution_count": 2,
   "id": "4c02fb02",
   "metadata": {
    "scrolled": false
   },
   "outputs": [
    {
     "data": {
      "text/plain": [
       "125250"
      ]
     },
     "execution_count": 2,
     "metadata": {},
     "output_type": "execute_result"
    }
   ],
   "source": [
    "np.sum(np.arange(501))\n",
    "#np.sum([i for i in range (501)])"
   ]
  },
  {
   "cell_type": "markdown",
   "id": "6ef69ace",
   "metadata": {},
   "source": [
    "### 2. Find the sum of squares of all numbers from 1 to 10"
   ]
  },
  {
   "cell_type": "code",
   "execution_count": 3,
   "id": "cf83fd77",
   "metadata": {},
   "outputs": [
    {
     "data": {
      "text/plain": [
       "385"
      ]
     },
     "execution_count": 3,
     "metadata": {},
     "output_type": "execute_result"
    }
   ],
   "source": [
    "np.sum(np.square(np.arange(11)))\n",
    "#np.sum([np.square(i) for i in range(11)])"
   ]
  },
  {
   "cell_type": "markdown",
   "id": "deb21eca",
   "metadata": {},
   "source": [
    "### 3. Find the median of squares of all numbers from 1 to 100"
   ]
  },
  {
   "cell_type": "code",
   "execution_count": 4,
   "id": "fb3767b3",
   "metadata": {},
   "outputs": [
    {
     "data": {
      "text/plain": [
       "2500.0"
      ]
     },
     "execution_count": 4,
     "metadata": {},
     "output_type": "execute_result"
    }
   ],
   "source": [
    "np.median(np.square(np.arange(101)))\n",
    "#np.median([np.square(i) for i in range(101)])"
   ]
  },
  {
   "cell_type": "markdown",
   "id": "a855eb02",
   "metadata": {},
   "source": [
    "### 4. Find the standard deviation of squares of all numbers from 1 to 100"
   ]
  },
  {
   "cell_type": "code",
   "execution_count": 5,
   "id": "48330c47",
   "metadata": {},
   "outputs": [
    {
     "data": {
      "text/plain": [
       "3012.943743251772"
      ]
     },
     "execution_count": 5,
     "metadata": {},
     "output_type": "execute_result"
    }
   ],
   "source": [
    "np.std(np.square(np.arange(101)))\n",
    "#np.std([np.square(i) for i in range(101)])"
   ]
  },
  {
   "cell_type": "markdown",
   "id": "3ce81e02",
   "metadata": {},
   "source": [
    "### 5. Write a function to calculate the standard deviation of an array without using _np.std_ .\n",
    "$ \\sigma=\\sqrt{\\frac{1}{N}\\sum_{i=1}^{N}(x_{i}-\\mu)^2} $"
   ]
  },
  {
   "cell_type": "code",
   "execution_count": 6,
   "id": "24fa53b8",
   "metadata": {},
   "outputs": [],
   "source": [
    "import math\n",
    "\n",
    "def without_npstd(N):\n",
    "#     sigma = 0\n",
    "    mean = np.mean(np.arange(1, N + 1))\n",
    "    sigma = np.sum([np.square(i - mean) for i in range(1,N + 1)])\n",
    "#     for i in range(1, N + 1):\n",
    "#         sigma = np.sum(np.square(i - mean))\n",
    "    sq_root = sigma / N\n",
    "    variance = math.sqrt(sq_root)\n",
    "    return variance"
   ]
  },
  {
   "cell_type": "code",
   "execution_count": 7,
   "id": "cf5566a9",
   "metadata": {},
   "outputs": [
    {
     "name": "stdout",
     "output_type": "stream",
     "text": [
      "28.86607004772212\n"
     ]
    }
   ],
   "source": [
    "print(without_npstd(100))"
   ]
  },
  {
   "cell_type": "code",
   "execution_count": 8,
   "id": "d08f3bd0",
   "metadata": {},
   "outputs": [
    {
     "data": {
      "text/plain": [
       "True"
      ]
     },
     "execution_count": 8,
     "metadata": {},
     "output_type": "execute_result"
    }
   ],
   "source": [
    "#Checking correctnes of my function\n",
    "without_npstd(100) == np.std(np.arange(1, 101))"
   ]
  },
  {
   "cell_type": "markdown",
   "id": "f7266263",
   "metadata": {},
   "source": [
    "### 6. Read  <a href=\"https://numpy.org/doc/stable/user/theory.broadcasting.html#array-broadcasting-in-numpy\">this</a>  numpy article on broadcasting, and briefly explain broadcasting in your own words <br>\n",
    "#### Answer:\n",
    "Array broadcasting allows performing arithmetical operations of numpy arrays even with non-compatibles shapes. For instance, if we try to add a number $a$ to the vector or array $v$, the number $a$ is broadcasted to the according shape of the vector $v$. <br> \n",
    "<br>\n",
    "**Let's define these vector and number,** <br>\n",
    "```import numpy as np``` <br>\n",
    "```v = array([1.0, 2.0, 3.0])``` <br>\n",
    "```a = 10``` <br>\n",
    "When we try to perform ```v + a```, it gives us output ```array([11, 12, 13])```, because number $a$ is extended or **_broadcasted_** to an array $[10, 10, 10]$"
   ]
  },
  {
   "cell_type": "markdown",
   "id": "f0921f82",
   "metadata": {},
   "source": [
    "### 7. Let x = np.ones((10, 20, 30)). What is the shape of x.sum(axis=0), x.sum(axis=1) and x.sum(axis=2)?"
   ]
  },
  {
   "cell_type": "code",
   "execution_count": 9,
   "id": "b393cc3b",
   "metadata": {},
   "outputs": [],
   "source": [
    "x = np.ones((10, 20, 30))"
   ]
  },
  {
   "cell_type": "code",
   "execution_count": 10,
   "id": "76a219a3",
   "metadata": {},
   "outputs": [
    {
     "data": {
      "text/plain": [
       "(20, 30)"
      ]
     },
     "execution_count": 10,
     "metadata": {},
     "output_type": "execute_result"
    }
   ],
   "source": [
    "np.shape(x.sum(axis = 0))"
   ]
  },
  {
   "cell_type": "code",
   "execution_count": 11,
   "id": "3bf49518",
   "metadata": {},
   "outputs": [
    {
     "data": {
      "text/plain": [
       "(10, 30)"
      ]
     },
     "execution_count": 11,
     "metadata": {},
     "output_type": "execute_result"
    }
   ],
   "source": [
    "np.shape(x.sum(axis = 1))"
   ]
  },
  {
   "cell_type": "code",
   "execution_count": 12,
   "id": "025c93bf",
   "metadata": {
    "scrolled": true
   },
   "outputs": [
    {
     "data": {
      "text/plain": [
       "(10, 20)"
      ]
     },
     "execution_count": 12,
     "metadata": {},
     "output_type": "execute_result"
    }
   ],
   "source": [
    "np.shape(x.sum(axis = 2))"
   ]
  },
  {
   "cell_type": "markdown",
   "id": "691ea29b",
   "metadata": {},
   "source": [
    "### 8. Suppose y.shape is (a, b, c, ..., z). What is the shape of y.sum(axis=i) for _0 ≤ i < 26_ ?\n",
    "__The shape of y.sum(axis=i) consist of all the dimenisons(letters) of the array _without_ _$i^{th}$_ dimension(letter) of the array. For instance, ```np.shape(y.sum(axis=0))``` will give us output of ```(b,c,d,..., z)```__"
   ]
  },
  {
   "cell_type": "markdown",
   "id": "9c76d71a",
   "metadata": {},
   "source": [
    "### 9. Suppose x is an array of shape (100, 10). Each row represents a student and each column represents an exam. Write numpy expressions that represent:"
   ]
  },
  {
   "cell_type": "code",
   "execution_count": 13,
   "id": "9f686e44",
   "metadata": {},
   "outputs": [],
   "source": [
    "student_grade = np.random.uniform(50,101, [100,10]) #Randomly seeds numbers from 50 to 100 to our 2-dimensional array"
   ]
  },
  {
   "cell_type": "markdown",
   "id": "cf30e59c",
   "metadata": {},
   "source": [
    ">### a. The average grade of each student"
   ]
  },
  {
   "cell_type": "code",
   "execution_count": 14,
   "id": "bb823ba5",
   "metadata": {
    "scrolled": true
   },
   "outputs": [
    {
     "data": {
      "text/plain": [
       "array([71.35591016, 75.37122751, 72.66476543, 77.76493666, 77.27336662,\n",
       "       79.92758512, 85.80095102, 71.98578994, 72.36731305, 72.39670841,\n",
       "       67.64562218, 76.60404715, 69.35840213, 88.42776554, 85.19995079,\n",
       "       78.68037643, 78.91009201, 72.88669076, 76.72858089, 79.27127988,\n",
       "       81.57877629, 72.68804186, 73.14549141, 73.1616749 , 85.47264176,\n",
       "       74.0120459 , 70.95720846, 74.33869622, 70.17059373, 64.13272305,\n",
       "       67.63874918, 76.93723423, 75.08649899, 76.84618891, 75.14770098,\n",
       "       80.33263612, 66.59626354, 80.00975771, 84.31439401, 75.62621224,\n",
       "       74.34022626, 72.3797977 , 76.67724998, 69.94401237, 75.45713862,\n",
       "       72.84271898, 75.30329448, 78.11507296, 83.47565077, 81.57459821,\n",
       "       77.05791787, 80.65979252, 76.52100494, 73.89826961, 71.53237421,\n",
       "       75.46452125, 69.75496296, 82.01852626, 73.00739863, 77.64746764,\n",
       "       70.029463  , 82.41773358, 72.17864589, 71.18132962, 76.87724041,\n",
       "       74.46739181, 81.31753352, 78.85514904, 78.34909492, 70.66642484,\n",
       "       75.38784251, 70.99560568, 82.12734298, 79.78051023, 71.82662246,\n",
       "       71.20412042, 80.86700923, 76.75860245, 70.21233848, 71.4135046 ,\n",
       "       75.23599554, 74.71428684, 70.08872256, 77.00187205, 73.09244581,\n",
       "       81.61270052, 77.59983059, 80.58320376, 73.47738093, 73.12518608,\n",
       "       82.06883769, 84.82861661, 70.98667614, 79.25393095, 82.73558466,\n",
       "       78.66113861, 84.57504334, 78.72150825, 73.69685229, 71.64362044])"
      ]
     },
     "execution_count": 14,
     "metadata": {},
     "output_type": "execute_result"
    }
   ],
   "source": [
    "np.average(student_grade, axis=1)"
   ]
  },
  {
   "cell_type": "markdown",
   "id": "b46deab3",
   "metadata": {},
   "source": [
    ">### b. The average grade in each exam"
   ]
  },
  {
   "cell_type": "code",
   "execution_count": 15,
   "id": "7de020c3",
   "metadata": {},
   "outputs": [
    {
     "data": {
      "text/plain": [
       "array([74.99965984, 77.09346843, 75.36480933, 75.32665091, 76.63599823,\n",
       "       77.66429234, 76.61848684, 75.84680571, 75.06857537, 75.09163566])"
      ]
     },
     "execution_count": 15,
     "metadata": {},
     "output_type": "execute_result"
    }
   ],
   "source": [
    "np.mean(student_grade, axis=0)"
   ]
  },
  {
   "cell_type": "markdown",
   "id": "a0502fd7",
   "metadata": {},
   "source": [
    "### 10. The following table describes the grades of several students in several assignments in a course, as well as their final grade in the course. _Find the weight of each assignment in the final grade (some grades are rounded)_."
   ]
  },
  {
   "cell_type": "markdown",
   "id": "84a91789",
   "metadata": {},
   "source": [
    "<img src=\"./assets/images/exercise10_table.png\">"
   ]
  },
  {
   "cell_type": "code",
   "execution_count": 16,
   "id": "09b1ab90",
   "metadata": {},
   "outputs": [],
   "source": [
    "student_1 = np.array([89, 93, 83, 88])\n",
    "student_2 = np.array([100, 86, 78, 86])\n",
    "student_3 = np.array([97, 90, 88, 91])\n",
    "student_4 = np.array([83, 99, 100, 96])\n",
    "student_5 = np.array([100, 81, 75, 83])\n",
    "\n",
    "data = np.array([student_1, student_2, student_3, student_4, student_5])\n",
    "X = data[:,:-1] #till index -1\n",
    "y = data[:, -1] #only index -1"
   ]
  },
  {
   "cell_type": "code",
   "execution_count": 17,
   "id": "10451eab",
   "metadata": {
    "scrolled": false
   },
   "outputs": [
    {
     "data": {
      "text/plain": [
       "array([[ 89,  93,  83],\n",
       "       [100,  86,  78],\n",
       "       [ 97,  90,  88],\n",
       "       [ 83,  99, 100],\n",
       "       [100,  81,  75]])"
      ]
     },
     "execution_count": 17,
     "metadata": {},
     "output_type": "execute_result"
    }
   ],
   "source": [
    "X"
   ]
  },
  {
   "cell_type": "code",
   "execution_count": 18,
   "id": "3498cb36",
   "metadata": {
    "scrolled": false
   },
   "outputs": [
    {
     "data": {
      "text/plain": [
       "array([88, 86, 91, 96, 83])"
      ]
     },
     "execution_count": 18,
     "metadata": {},
     "output_type": "execute_result"
    }
   ],
   "source": [
    "y"
   ]
  },
  {
   "cell_type": "markdown",
   "id": "374fe2c1",
   "metadata": {},
   "source": [
    "If we consider that is is an overdetermined system <br>\n",
    "$\\sum_{j=1}^{p}= X_{ij}\\beta_{j} = y_{i}, (i = 1, 2, ..., n)$ <br>\n",
    "with $n$ linear equations $p$ unknown coefficients(in our case, there are 3 unknown coefficients) $\\beta_{1}, \\beta_{2}, ..., \\beta_{p}$. <br>\n",
    "We can find the coefficient by using the property below: <br>\n",
    "$(X^{T}X)\\hat{\\beta} = X^{T}y$, <br>\n",
    "where $(X^{T}X)$ is **_Gram matrix_** and the matrix $X^{T}y$ is knows as the **_moment matrix_**, and $\\hat{\\beta}$ is the coefficient vector that we have to find <br>\n",
    "<br>\n",
    "$\\hat{\\beta} = (X^{T}X)^{-1}X^{T}y$ - solution to our exercise"
   ]
  },
  {
   "cell_type": "code",
   "execution_count": 19,
   "id": "039c4873",
   "metadata": {},
   "outputs": [],
   "source": [
    "# beta = np.linalg.inv(X.T @ X) @ X.T @ y\n",
    "beta = np.asmatrix((X.T @ X)).I @ X.T @ y #or np.matrix().I\n",
    "# beta = np.matmul(np.matmul(np.linalg.inv(np.matmul(X.T, X)), X.T), y)"
   ]
  },
  {
   "cell_type": "code",
   "execution_count": 20,
   "id": "692236a4",
   "metadata": {
    "scrolled": true
   },
   "outputs": [
    {
     "name": "stdout",
     "output_type": "stream",
     "text": [
      "Weights of each assignment: [[0.23083893 0.33911109 0.43272626]]\n"
     ]
    }
   ],
   "source": [
    "print(f'Weights of each assignment: {np.array(beta)}')"
   ]
  }
 ],
 "metadata": {
  "interpreter": {
   "hash": "40d3a090f54c6569ab1632332b64b2c03c39dcf918b08424e98f38b5ae0af88f"
  },
  "kernelspec": {
   "display_name": "Python 3.8.8 64-bit (conda)",
   "name": "python3"
  },
  "language_info": {
   "codemirror_mode": {
    "name": "ipython",
    "version": 3
   },
   "file_extension": ".py",
   "mimetype": "text/x-python",
   "name": "python",
   "nbconvert_exporter": "python",
   "pygments_lexer": "ipython3",
   "version": "3.8.8"
  }
 },
 "nbformat": 4,
 "nbformat_minor": 5
}
