{
 "cells": [
  {
   "cell_type": "code",
   "execution_count": 1,
   "id": "582224d3",
   "metadata": {},
   "outputs": [],
   "source": [
    "import numpy as np"
   ]
  },
  {
   "cell_type": "code",
   "execution_count": 4,
   "id": "d7d036a7",
   "metadata": {},
   "outputs": [],
   "source": [
    "X = np.array([[ 89,  93,  83],\n",
    "              [100,  86,  78],\n",
    "              [ 97,  90,  88],\n",
    "              [ 83,  99, 100],\n",
    "              [100,  81,  75]])"
   ]
  },
  {
   "cell_type": "code",
   "execution_count": 5,
   "id": "e3207b27",
   "metadata": {
    "scrolled": true
   },
   "outputs": [
    {
     "name": "stdout",
     "output_type": "stream",
     "text": [
      "[[ 89 100  97  83 100]\n",
      " [ 93  86  90  99  81]\n",
      " [ 83  78  88 100  75]]\n"
     ]
    }
   ],
   "source": [
    "### 5 methods of implementing matrix transpose \n",
    "\n",
    "# Method 1\n",
    "# result = np.zeros((3, 5), dtype = np.int32)\n",
    "# print(result)\n",
    "result = np.zeros((X.shape[1], X.shape[0]), dtype=np.int32)\n",
    "# Iterate through rows\n",
    "for i in range(len(X)):\n",
    "   #Iterate through columns\n",
    "    for j in range(len(X[0])):\n",
    "        result[j][i] = X[i][j]\n",
    "print(result)"
   ]
  },
  {
   "cell_type": "code",
   "execution_count": 6,
   "id": "614e4500",
   "metadata": {},
   "outputs": [
    {
     "name": "stdout",
     "output_type": "stream",
     "text": [
      "[89, 100, 97, 83, 100]\n",
      "[93, 86, 90, 99, 81]\n",
      "[83, 78, 88, 100, 75]\n"
     ]
    }
   ],
   "source": [
    "#Method 2\n",
    "result = [[X[j][i] for j in range(len(X))] for i in range(len(X[0]))]\n",
    "for r in result:\n",
    "    print(r)"
   ]
  },
  {
   "cell_type": "code",
   "execution_count": 7,
   "id": "bc8f31e0",
   "metadata": {},
   "outputs": [
    {
     "name": "stdout",
     "output_type": "stream",
     "text": [
      "<map object at 0x7fe7e081c3a0>\n",
      "<map object at 0x7fe7e081c280>\n",
      "[89, 100, 97, 83, 100]\n",
      "[93, 86, 90, 99, 81]\n",
      "[83, 78, 88, 100, 75]\n",
      "\n",
      "[array([89, 93, 83])]\n",
      "[array([100,  86,  78])]\n",
      "[array([97, 90, 88])]\n",
      "[array([ 83,  99, 100])]\n",
      "[array([100,  81,  75])]\n"
     ]
    }
   ],
   "source": [
    "#Method 3\n",
    "result_1 = map(list, zip(*X))\n",
    "result_2 = map(list, zip(X))\n",
    "\n",
    "print(result_1)\n",
    "print(result_2)\n",
    "\n",
    "for r in result_1:\n",
    "    print(r)\n",
    "print()\n",
    "for r in result_2:\n",
    "    print(r)"
   ]
  },
  {
   "cell_type": "code",
   "execution_count": 8,
   "id": "7389c0bc",
   "metadata": {},
   "outputs": [
    {
     "name": "stdout",
     "output_type": "stream",
     "text": [
      "[[ 89 100  97  83 100]\n",
      " [ 93  86  90  99  81]\n",
      " [ 83  78  88 100  75]]\n"
     ]
    }
   ],
   "source": [
    "# Method 4\n",
    "print(np.transpose(X,(1,0)))"
   ]
  },
  {
   "cell_type": "code",
   "execution_count": 9,
   "id": "231d6ec6",
   "metadata": {},
   "outputs": [
    {
     "data": {
      "text/plain": [
       "array([[ 89, 100,  97,  83, 100],\n",
       "       [ 93,  86,  90,  99,  81],\n",
       "       [ 83,  78,  88, 100,  75]])"
      ]
     },
     "execution_count": 9,
     "metadata": {},
     "output_type": "execute_result"
    }
   ],
   "source": [
    "# Method 5\n",
    "X.T"
   ]
  }
 ],
 "metadata": {
  "kernelspec": {
   "display_name": "Python 3",
   "language": "python",
   "name": "python3"
  },
  "language_info": {
   "codemirror_mode": {
    "name": "ipython",
    "version": 3
   },
   "file_extension": ".py",
   "mimetype": "text/x-python",
   "name": "python",
   "nbconvert_exporter": "python",
   "pygments_lexer": "ipython3",
   "version": "3.8.8"
  }
 },
 "nbformat": 4,
 "nbformat_minor": 5
}
