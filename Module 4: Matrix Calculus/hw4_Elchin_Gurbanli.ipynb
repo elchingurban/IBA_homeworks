{
 "cells": [
  {
   "cell_type": "code",
   "execution_count": 12,
   "metadata": {},
   "outputs": [],
   "source": [
    "import numpy as np\n",
    "import pandas as pd\n",
    "import matplotlib.pyplot as plt"
   ]
  },
  {
   "cell_type": "markdown",
   "metadata": {},
   "source": [
    "### 1) Use the analytical solution to OLS on the data from HW1, to estimate the weight ofeach exam on the final grade:"
   ]
  },
  {
   "cell_type": "code",
   "execution_count": 2,
   "metadata": {},
   "outputs": [
    {
     "data": {
      "text/html": [
       "<div>\n",
       "<style scoped>\n",
       "    .dataframe tbody tr th:only-of-type {\n",
       "        vertical-align: middle;\n",
       "    }\n",
       "\n",
       "    .dataframe tbody tr th {\n",
       "        vertical-align: top;\n",
       "    }\n",
       "\n",
       "    .dataframe thead th {\n",
       "        text-align: right;\n",
       "    }\n",
       "</style>\n",
       "<table border=\"1\" class=\"dataframe\">\n",
       "  <thead>\n",
       "    <tr style=\"text-align: right;\">\n",
       "      <th></th>\n",
       "      <th>Exam 1</th>\n",
       "      <th>Exam 2</th>\n",
       "      <th>Exam 3</th>\n",
       "      <th>Final Grade</th>\n",
       "    </tr>\n",
       "  </thead>\n",
       "  <tbody>\n",
       "    <tr>\n",
       "      <th>Student 1</th>\n",
       "      <td>89</td>\n",
       "      <td>93</td>\n",
       "      <td>83</td>\n",
       "      <td>88</td>\n",
       "    </tr>\n",
       "    <tr>\n",
       "      <th>Student 2</th>\n",
       "      <td>100</td>\n",
       "      <td>86</td>\n",
       "      <td>78</td>\n",
       "      <td>86</td>\n",
       "    </tr>\n",
       "    <tr>\n",
       "      <th>Student 3</th>\n",
       "      <td>97</td>\n",
       "      <td>90</td>\n",
       "      <td>88</td>\n",
       "      <td>91</td>\n",
       "    </tr>\n",
       "    <tr>\n",
       "      <th>Student 4</th>\n",
       "      <td>83</td>\n",
       "      <td>99</td>\n",
       "      <td>100</td>\n",
       "      <td>96</td>\n",
       "    </tr>\n",
       "    <tr>\n",
       "      <th>Student 5</th>\n",
       "      <td>100</td>\n",
       "      <td>81</td>\n",
       "      <td>75</td>\n",
       "      <td>83</td>\n",
       "    </tr>\n",
       "  </tbody>\n",
       "</table>\n",
       "</div>"
      ],
      "text/plain": [
       "           Exam 1  Exam 2  Exam 3  Final Grade\n",
       "Student 1      89      93      83           88\n",
       "Student 2     100      86      78           86\n",
       "Student 3      97      90      88           91\n",
       "Student 4      83      99     100           96\n",
       "Student 5     100      81      75           83"
      ]
     },
     "execution_count": 2,
     "metadata": {},
     "output_type": "execute_result"
    }
   ],
   "source": [
    "data = np.array([[89,93,83,88],\n",
    "                 [100,86,78,86],\n",
    "                 [97,90,88,91],\n",
    "                 [83,99,100,96],\n",
    "                 [100,81,75,83]])\n",
    "df = pd.DataFrame(data, columns = ['Exam 1','Exam 2','Exam 3','Final Grade'], \n",
    "                      index = ['Student {}'.format(i) for i in range(1,6)])\n",
    "df"
   ]
  },
  {
   "cell_type": "code",
   "execution_count": 3,
   "metadata": {},
   "outputs": [],
   "source": [
    "X = df.iloc[:,:-1].values\n",
    "y = df.iloc[:,-1].values"
   ]
  },
  {
   "cell_type": "markdown",
   "metadata": {},
   "source": [
    "$\\hat{\\beta} = (X^{T}X)^{-1}X^{T}y$"
   ]
  },
  {
   "cell_type": "code",
   "execution_count": 4,
   "metadata": {},
   "outputs": [
    {
     "data": {
      "text/plain": [
       "array([0.23083893, 0.33911109, 0.43272626])"
      ]
     },
     "execution_count": 4,
     "metadata": {},
     "output_type": "execute_result"
    }
   ],
   "source": [
    "b = np.linalg.inv(X.T @ X) @ X.T @ y\n",
    "b"
   ]
  },
  {
   "cell_type": "code",
   "execution_count": 5,
   "metadata": {},
   "outputs": [
    {
     "data": {
      "text/plain": [
       "array([87.99827582, 86.00009513, 90.99128528, 96.00425515, 83.0063609 ])"
      ]
     },
     "execution_count": 5,
     "metadata": {},
     "output_type": "execute_result"
    }
   ],
   "source": [
    "X @ b #should be equal to y"
   ]
  },
  {
   "cell_type": "code",
   "execution_count": 6,
   "metadata": {},
   "outputs": [
    {
     "data": {
      "text/plain": [
       "array([ True,  True,  True,  True,  True])"
      ]
     },
     "execution_count": 6,
     "metadata": {},
     "output_type": "execute_result"
    }
   ],
   "source": [
    "(X @ b).round() == y"
   ]
  },
  {
   "cell_type": "code",
   "execution_count": 7,
   "metadata": {
    "scrolled": true
   },
   "outputs": [
    {
     "data": {
      "text/html": [
       "<div>\n",
       "<style scoped>\n",
       "    .dataframe tbody tr th:only-of-type {\n",
       "        vertical-align: middle;\n",
       "    }\n",
       "\n",
       "    .dataframe tbody tr th {\n",
       "        vertical-align: top;\n",
       "    }\n",
       "\n",
       "    .dataframe thead th {\n",
       "        text-align: right;\n",
       "    }\n",
       "</style>\n",
       "<table border=\"1\" class=\"dataframe\">\n",
       "  <thead>\n",
       "    <tr style=\"text-align: right;\">\n",
       "      <th></th>\n",
       "      <th>Exam 1</th>\n",
       "      <th>Exam 2</th>\n",
       "      <th>Exam 3</th>\n",
       "    </tr>\n",
       "  </thead>\n",
       "  <tbody>\n",
       "    <tr>\n",
       "      <th>Weights</th>\n",
       "      <td>0.230839</td>\n",
       "      <td>0.339111</td>\n",
       "      <td>0.432726</td>\n",
       "    </tr>\n",
       "  </tbody>\n",
       "</table>\n",
       "</div>"
      ],
      "text/plain": [
       "           Exam 1    Exam 2    Exam 3\n",
       "Weights  0.230839  0.339111  0.432726"
      ]
     },
     "execution_count": 7,
     "metadata": {},
     "output_type": "execute_result"
    }
   ],
   "source": [
    "weights = np.array([b[0], b[1], b[2]]).reshape(1,3)\n",
    "df_weights = pd.DataFrame(weights, columns = ['Exam 1', 'Exam 2', 'Exam 3'], index = ['Weights'])\n",
    "df_weights"
   ]
  },
  {
   "cell_type": "markdown",
   "metadata": {},
   "source": [
    "We know that formula is, $$Final Grade = \\hat{\\beta}_1Exam1 + \\hat{\\beta}_2Exam2 + \\hat{\\beta}_3Exam3$$"
   ]
  },
  {
   "cell_type": "code",
   "execution_count": 8,
   "metadata": {
    "scrolled": true
   },
   "outputs": [
    {
     "data": {
      "text/html": [
       "<div>\n",
       "<style scoped>\n",
       "    .dataframe tbody tr th:only-of-type {\n",
       "        vertical-align: middle;\n",
       "    }\n",
       "\n",
       "    .dataframe tbody tr th {\n",
       "        vertical-align: top;\n",
       "    }\n",
       "\n",
       "    .dataframe thead th {\n",
       "        text-align: right;\n",
       "    }\n",
       "</style>\n",
       "<table border=\"1\" class=\"dataframe\">\n",
       "  <thead>\n",
       "    <tr style=\"text-align: right;\">\n",
       "      <th></th>\n",
       "      <th>True Final grade</th>\n",
       "      <th>Predicted Final grade</th>\n",
       "    </tr>\n",
       "  </thead>\n",
       "  <tbody>\n",
       "    <tr>\n",
       "      <th>Student 1</th>\n",
       "      <td>88.0</td>\n",
       "      <td>87.998276</td>\n",
       "    </tr>\n",
       "    <tr>\n",
       "      <th>Student 2</th>\n",
       "      <td>86.0</td>\n",
       "      <td>86.000095</td>\n",
       "    </tr>\n",
       "    <tr>\n",
       "      <th>Student 3</th>\n",
       "      <td>91.0</td>\n",
       "      <td>90.991285</td>\n",
       "    </tr>\n",
       "    <tr>\n",
       "      <th>Student 4</th>\n",
       "      <td>96.0</td>\n",
       "      <td>96.004255</td>\n",
       "    </tr>\n",
       "    <tr>\n",
       "      <th>Student 5</th>\n",
       "      <td>83.0</td>\n",
       "      <td>83.006361</td>\n",
       "    </tr>\n",
       "  </tbody>\n",
       "</table>\n",
       "</div>"
      ],
      "text/plain": [
       "           True Final grade  Predicted Final grade\n",
       "Student 1              88.0              87.998276\n",
       "Student 2              86.0              86.000095\n",
       "Student 3              91.0              90.991285\n",
       "Student 4              96.0              96.004255\n",
       "Student 5              83.0              83.006361"
      ]
     },
     "execution_count": 8,
     "metadata": {},
     "output_type": "execute_result"
    }
   ],
   "source": [
    "predicted_FinalGrades = np.array([df.iloc[i,0] * b[0] + df.iloc[i,1] * b[1] + df.iloc[i,2] * b[2] for i in range(0,5)])\n",
    "\n",
    "concat_true_predicted = np.concatenate((y.reshape(5,1), predicted_FinalGrades.reshape(5,1)), axis = 1)\n",
    "df_true_predicted = pd.DataFrame(concat_true_predicted, columns = ['True Final grade', 'Predicted Final grade'],\n",
    "                            index = ['Student {}'.format(i) for i in range(1,6)])\n",
    "df_true_predicted"
   ]
  },
  {
   "cell_type": "markdown",
   "metadata": {},
   "source": [
    "Last retouchings, i.e, rounding the values:"
   ]
  },
  {
   "cell_type": "code",
   "execution_count": 9,
   "metadata": {},
   "outputs": [
    {
     "data": {
      "text/html": [
       "<div>\n",
       "<style scoped>\n",
       "    .dataframe tbody tr th:only-of-type {\n",
       "        vertical-align: middle;\n",
       "    }\n",
       "\n",
       "    .dataframe tbody tr th {\n",
       "        vertical-align: top;\n",
       "    }\n",
       "\n",
       "    .dataframe thead th {\n",
       "        text-align: right;\n",
       "    }\n",
       "</style>\n",
       "<table border=\"1\" class=\"dataframe\">\n",
       "  <thead>\n",
       "    <tr style=\"text-align: right;\">\n",
       "      <th></th>\n",
       "      <th>True Final grade</th>\n",
       "      <th>Predicted Final grade</th>\n",
       "    </tr>\n",
       "  </thead>\n",
       "  <tbody>\n",
       "    <tr>\n",
       "      <th>Student 1</th>\n",
       "      <td>88.0</td>\n",
       "      <td>88.0</td>\n",
       "    </tr>\n",
       "    <tr>\n",
       "      <th>Student 2</th>\n",
       "      <td>86.0</td>\n",
       "      <td>86.0</td>\n",
       "    </tr>\n",
       "    <tr>\n",
       "      <th>Student 3</th>\n",
       "      <td>91.0</td>\n",
       "      <td>91.0</td>\n",
       "    </tr>\n",
       "    <tr>\n",
       "      <th>Student 4</th>\n",
       "      <td>96.0</td>\n",
       "      <td>96.0</td>\n",
       "    </tr>\n",
       "    <tr>\n",
       "      <th>Student 5</th>\n",
       "      <td>83.0</td>\n",
       "      <td>83.0</td>\n",
       "    </tr>\n",
       "  </tbody>\n",
       "</table>\n",
       "</div>"
      ],
      "text/plain": [
       "           True Final grade  Predicted Final grade\n",
       "Student 1              88.0                   88.0\n",
       "Student 2              86.0                   86.0\n",
       "Student 3              91.0                   91.0\n",
       "Student 4              96.0                   96.0\n",
       "Student 5              83.0                   83.0"
      ]
     },
     "execution_count": 9,
     "metadata": {},
     "output_type": "execute_result"
    }
   ],
   "source": [
    "df_true_predicted['Predicted Final grade'] = df_true_predicted['Predicted Final grade'].round()\n",
    "df_true_predicted"
   ]
  },
  {
   "cell_type": "markdown",
   "metadata": {},
   "source": [
    "### 2) Use the same data, but now find the weights using gradient descent. Guidance:"
   ]
  },
  {
   "cell_type": "code",
   "execution_count": 10,
   "metadata": {},
   "outputs": [],
   "source": [
    "from tqdm import tqdm"
   ]
  },
  {
   "cell_type": "code",
   "execution_count": 13,
   "metadata": {
    "scrolled": false
   },
   "outputs": [
    {
     "name": "stderr",
     "output_type": "stream",
     "text": [
      "100%|██████████| 160000/160000 [00:02<00:00, 67925.21it/s]\n"
     ]
    },
    {
     "name": "stdout",
     "output_type": "stream",
     "text": [
      "The last 5 values of error [0.0001375 0.0001375 0.0001375 0.0001375 0.0001375 0.0001375 0.0001375\n",
      " 0.0001375 0.0001375 0.0001375]\n",
      "\n",
      "The weights that were found with gradient descend are [0.23083893 0.33911109 0.43272626]\n"
     ]
    },
    {
     "data": {
      "image/png": "[encoded data removed]",
      "text/plain": [
       "<Figure size 432x288 with 1 Axes>"
      ]
     },
     "metadata": {
      "needs_background": "light"
     },
     "output_type": "display_data"
    }
   ],
   "source": [
    "epochs = 160000 #a---> number of epochs\n",
    "step_size = 8e-6 # d---> the least value I could come up with while playing with numbers\n",
    "error_history = [] #empty list to collect the values of errors\n",
    "\n",
    "def OLS_gradient_descent(X, y, step_size, termination_crieria):\n",
    "    a = np.random.random(3) #three initial random values for a as test values for exam weights\n",
    "    for i in tqdm(range(termination_crieria)):\n",
    "        error = np.sum(np.square(a.T @ X.T - y.T)) #b--->calculating the error\n",
    "        error_history.append(np.log(error)) #adding current error to array\n",
    "        current_gradient = 2 * (a.T @ X.T - y.T) @ X #calculating current gradient\n",
    "        a = a - step_size * current_gradient #calculating the weights with using current-gradient and step size\n",
    "    print(\"The last 5 values of error {}\\n\".format(np.exp(error_history[-10:])))\n",
    "    plt.xlabel(\"epochs\")\n",
    "    plt.ylabel(\"log-error\")\n",
    "    plt.plot(np.arange(epochs), error_history) #c---> ploting the error\n",
    "    print(\"The weights that were found with gradient descend are {}\".format(a))\n",
    "\n",
    "OLS_gradient_descent(X, y, step_size, termination_crieria=epochs)"
   ]
  },
  {
   "cell_type": "markdown",
   "metadata": {},
   "source": [
    "We may observe that the errors(the last 10 error values in the array) are no greater than 0.001375. It means that our gradient descent algorithm is correct and the errors are negligibly small."
   ]
  },
  {
   "cell_type": "markdown",
   "metadata": {},
   "source": [
    "### 3) Examine what happens to the gradient descent algorithm with different step sizes.Write a short summary of your conclusions."
   ]
  },
  {
   "cell_type": "markdown",
   "metadata": {},
   "source": [
    "The best step size I could find is $10^{-6} <= step size <= 8*10^{-6}$  . I tested several values, in higher from this values the gradients will be exploded, and it will give us nan values, and lower than this values will take a lot of time to convergence. That is why in my opinion, step sized from given interval is best to use in this gradient descend algorithm"
   ]
  }
 ],
 "metadata": {
  "interpreter": {
   "hash": "40d3a090f54c6569ab1632332b64b2c03c39dcf918b08424e98f38b5ae0af88f"
  },
  "kernelspec": {
   "display_name": "Python 3.8.8 64-bit (conda)",
   "name": "python3"
  },
  "language_info": {
   "codemirror_mode": {
    "name": "ipython",
    "version": 3
   },
   "file_extension": ".py",
   "mimetype": "text/x-python",
   "name": "python",
   "nbconvert_exporter": "python",
   "pygments_lexer": "ipython3",
   "version": "3.8.8"
  }
 },
 "nbformat": 4,
 "nbformat_minor": 2
}
