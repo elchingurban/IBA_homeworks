{
 "cells": [
  {
   "cell_type": "code",
   "execution_count": null,
   "metadata": {},
   "outputs": [],
   "source": [
    "import numpy as np\n",
    "import pandas as pd\n",
    "import matplotlib.pyplot as plt\n",
    "import seaborn as sns\n",
    "from sklearn.pipeline import Pipeline\n",
    "from sklearn.compose import ColumnTransformer\n",
    "from sklearn.preprocessing import OneHotEncoder\n",
    "from sklearn.preprocessing import StandardScaler\n",
    "from sklearn.model_selection import train_test_split\n",
    "from sklearn.impute import KNNImputer, SimpleImputer\n",
    "from sklearn.metrics import classification_report\n",
    "from sklearn.model_selection import GridSearchCV\n",
    "from sklearn.datasets import load_breast_cancer\n",
    "from sklearn.metrics import classification_report,confusion_matrix, accuracy_score, precision_recall_curve, auc, roc_curve"
   ]
  },
  {
   "cell_type": "code",
   "execution_count": null,
   "metadata": {},
   "outputs": [],
   "source": [
    "train_data = pd.read_csv('../Dataset/train.csv')\n",
    "test_data = pd.read_csv('../Dataset/test.csv')\n",
    "train_data.drop(labels='Id', axis=1, inplace=True)"
   ]
  },
  {
   "cell_type": "code",
   "execution_count": null,
   "metadata": {},
   "outputs": [],
   "source": [
    "train_data"
   ]
  },
  {
   "cell_type": "code",
   "execution_count": null,
   "metadata": {},
   "outputs": [],
   "source": [
    "#As in EDA file, credit_line_utilization column needs to be converted from object to float\n",
    "test_data['credit_line_utilization'].replace(',','.', regex = True, inplace = True)\n",
    "test_data[\"credit_line_utilization\"] = pd.to_numeric(test_data[\"credit_line_utilization\"])\n",
    "train_data['credit_line_utilization'].replace(',','.',regex = True, inplace = True)\n",
    "train_data[\"credit_line_utilization\"] = pd.to_numeric(train_data[\"credit_line_utilization\"])"
   ]
  },
  {
   "cell_type": "code",
   "execution_count": null,
   "metadata": {},
   "outputs": [],
   "source": [
    "X = train_data[[\"age\", \"number_dependent_family_members\",\"monthly_income\",\n",
    "                            \"number_of_credit_lines\",\"real_estate_loans\",\"ratio_debt_payment_to_income\",\n",
    "                            \"credit_line_utilization\",\"number_of_previous_late_payments_up_to_59_days\",\n",
    "                   \"number_of_previous_late_payments_up_to_89_days\",\n",
    "                   \"number_of_previous_late_payments_90_days_or_more\"]]\n",
    "y = train_data[[\"defaulted_on_loan\"]]"
   ]
  },
  {
   "cell_type": "code",
   "execution_count": null,
   "metadata": {},
   "outputs": [],
   "source": [
    "numerical_feats = X.dtypes[X.dtypes != 'object'].index\n",
    "print(\"Number of Numerical features: \", len(numerical_feats))\n",
    "\n",
    "categorical_feats = train_data.dtypes[train_data.dtypes == \"object\"].index\n",
    "print(\"Number of Categorical features: \", len(categorical_feats))"
   ]
  },
  {
   "cell_type": "code",
   "execution_count": null,
   "metadata": {},
   "outputs": [],
   "source": [
    "#Function for printing the best parameters for the GridSearchCV\n",
    "def get_best_score(grid):\n",
    "    print(\"The best score is {:.2f}\".format(grid.best_score_))    \n",
    "    print(\"Best parameters\", grid.best_params_)\n",
    "    return grid.best_score_"
   ]
  },
  {
   "cell_type": "markdown",
   "metadata": {},
   "source": [
    "Train-test split of our train data"
   ]
  },
  {
   "cell_type": "code",
   "execution_count": null,
   "metadata": {},
   "outputs": [],
   "source": [
    "X_train, X_test, y_train, y_test = train_test_split(X, y)"
   ]
  },
  {
   "cell_type": "markdown",
   "metadata": {},
   "source": [
    "After using K-neighbors Classifier, RandomForest Classifier, and Logistic Regression which were pretty slow, I decided on moving on with Catboost Classifier"
   ]
  },
  {
   "cell_type": "markdown",
   "metadata": {},
   "source": [
    "Catboost Classifier"
   ]
  },
  {
   "cell_type": "code",
   "execution_count": null,
   "metadata": {},
   "outputs": [],
   "source": [
    "from catboost import CatBoostClassifier"
   ]
  },
  {
   "cell_type": "code",
   "execution_count": null,
   "metadata": {},
   "outputs": [],
   "source": [
    "cat_params = {\n",
    "  'model__depth': [4, 5, 6],\n",
    "  'model__learning_rate' : [0.01, 0.02],\n",
    "  'model__iterations': [10, 20]\n",
    "}\n",
    "\n",
    "cat_model = Pipeline(steps = [\n",
    "    (\"preprocessing\", ColumnTransformer(transformers = [\n",
    "        (\"num_column\", Pipeline(steps = [\n",
    "            (\"imputer\", SimpleImputer()),\n",
    "            (\"scaler\", StandardScaler()),\n",
    "        ]), numerical_feats),\n",
    "    ])),\n",
    "    (\"model\", CatBoostClassifier())\n",
    "])"
   ]
  },
  {
   "cell_type": "code",
   "execution_count": 27,
   "metadata": {},
   "outputs": [],
   "source": [
    "import optuna\n",
    "from sklearn.metrics import roc_auc_score, make_scorer\n",
    "from sklearn.model_selection import cross_val_score\n",
    "\n",
    "def make_model(l2_leaf_reg, learning_rate, imp_strategy):\n",
    "    model = Pipeline(steps = [\n",
    "      (\"preprocessing\", Pipeline(steps = [\n",
    "            (\"imputer\",SimpleImputer(strategy = imp_strategy)),\n",
    "            (\"scaler\", StandardScaler())\n",
    "             ])),\n",
    "      (\"model\", CatBoostClassifier(depth = 8, l2_leaf_reg = l2_leaf_reg,\n",
    "                                   learning_rate=learning_rate, silent = True))])\n",
    "    return model"
   ]
  },
  {
   "cell_type": "code",
   "execution_count": 28,
   "metadata": {},
   "outputs": [],
   "source": [
    "def objective(trial):\n",
    "    imp_strategy = trial.suggest_categorical('imp_strategy', [\n",
    "        'median', 'mean', 'most_frequent'])\n",
    "    l2_leaf_reg = trial.suggest_float('l2_leaf_reg', 1, 15)\n",
    "    learning_rate = trial.suggest_float('learning_rate',0.1e-4, 0.3)\n",
    "    \n",
    "    model = make_model(l2_leaf_reg, learning_rate, \n",
    "                       imp_strategy)\n",
    "    return cross_val_score(model, X_train, y_train, cv=3, scoring=make_scorer(roc_auc_score)).mean()"
   ]
  },
  {
   "cell_type": "code",
   "execution_count": 29,
   "metadata": {},
   "outputs": [
    {
     "name": "stderr",
     "output_type": "stream",
     "text": [
      "\u001b[32m[I 2022-04-01 16:57:32,930]\u001b[0m A new study created in memory with name: no-name-1902d718-9326-439a-a9ea-61496e17abc4\u001b[0m\n"
     ]
    }
   ],
   "source": [
    "study_cat = optuna.create_study(direction = 'maximize')"
   ]
  },
  {
   "cell_type": "code",
   "execution_count": 31,
   "metadata": {},
   "outputs": [
    {
     "name": "stderr",
     "output_type": "stream",
     "text": [
      "Custom logger is already specified. Specify more than one logger at same time is not thread safe.\u001b[32m[I 2022-04-01 16:59:57,407]\u001b[0m Trial 2 finished with value: 0.5792648351065445 and parameters: {'imp_strategy': 'mean', 'l2_leaf_reg': 8.286896371647874, 'learning_rate': 0.028434311238331927}. Best is trial 0 with value: 0.5900985328749416.\u001b[0m\n",
      "\u001b[32m[I 2022-04-01 17:00:21,561]\u001b[0m Trial 3 finished with value: 0.5871336234225413 and parameters: {'imp_strategy': 'most_frequent', 'l2_leaf_reg': 2.298095736771187, 'learning_rate': 0.17623602723228154}. Best is trial 0 with value: 0.5900985328749416.\u001b[0m\n",
      "\u001b[32m[I 2022-04-01 17:00:45,755]\u001b[0m Trial 4 finished with value: 0.5834529277428261 and parameters: {'imp_strategy': 'median', 'l2_leaf_reg': 3.9743680102442935, 'learning_rate': 0.05033442129126743}. Best is trial 0 with value: 0.5900985328749416.\u001b[0m\n",
      "\u001b[32m[I 2022-04-01 17:01:09,681]\u001b[0m Trial 5 finished with value: 0.5765184527813071 and parameters: {'imp_strategy': 'median', 'l2_leaf_reg': 11.724927927683341, 'learning_rate': 0.0049752591689049015}. Best is trial 0 with value: 0.5900985328749416.\u001b[0m\n",
      "\u001b[32m[I 2022-04-01 17:01:33,966]\u001b[0m Trial 6 finished with value: 0.5816629541001501 and parameters: {'imp_strategy': 'most_frequent', 'l2_leaf_reg': 2.897974400971462, 'learning_rate': 0.0396351522704226}. Best is trial 0 with value: 0.5900985328749416.\u001b[0m\n",
      "\u001b[32m[I 2022-04-01 17:01:58,084]\u001b[0m Trial 7 finished with value: 0.5897006042871364 and parameters: {'imp_strategy': 'median', 'l2_leaf_reg': 9.20806491547717, 'learning_rate': 0.21155627056120746}. Best is trial 0 with value: 0.5900985328749416.\u001b[0m\n",
      "\u001b[32m[I 2022-04-01 17:02:22,367]\u001b[0m Trial 8 finished with value: 0.5816949824794682 and parameters: {'imp_strategy': 'most_frequent', 'l2_leaf_reg': 3.900025129059699, 'learning_rate': 0.06019106320290974}. Best is trial 0 with value: 0.5900985328749416.\u001b[0m\n",
      "\u001b[32m[I 2022-04-01 17:02:46,669]\u001b[0m Trial 9 finished with value: 0.5873858016162185 and parameters: {'imp_strategy': 'most_frequent', 'l2_leaf_reg': 3.3106605557221607, 'learning_rate': 0.15781634021762964}. Best is trial 0 with value: 0.5900985328749416.\u001b[0m\n",
      "\u001b[32m[I 2022-04-01 17:03:11,285]\u001b[0m Trial 10 finished with value: 0.5834573861940545 and parameters: {'imp_strategy': 'mean', 'l2_leaf_reg': 1.6654821848821197, 'learning_rate': 0.11973984231185836}. Best is trial 0 with value: 0.5900985328749416.\u001b[0m\n",
      "\u001b[32m[I 2022-04-01 17:03:35,376]\u001b[0m Trial 11 finished with value: 0.5899244012091257 and parameters: {'imp_strategy': 'most_frequent', 'l2_leaf_reg': 13.710780123132682, 'learning_rate': 0.2947278198074569}. Best is trial 0 with value: 0.5900985328749416.\u001b[0m\n"
     ]
    }
   ],
   "source": [
    "study_cat.optimize(objective, n_trials=10)"
   ]
  },
  {
   "cell_type": "code",
   "execution_count": 32,
   "metadata": {},
   "outputs": [
    {
     "data": {
      "text/plain": [
       "{'imp_strategy': 'most_frequent',\n",
       " 'l2_leaf_reg': 8.069839986047254,\n",
       " 'learning_rate': 0.29037681714266655}"
      ]
     },
     "execution_count": 32,
     "metadata": {},
     "output_type": "execute_result"
    }
   ],
   "source": [
    "study_cat.best_params"
   ]
  },
  {
   "cell_type": "code",
   "execution_count": null,
   "metadata": {},
   "outputs": [],
   "source": [
    "grid_cat = GridSearchCV(cat_model, cat_params, cv = 5)"
   ]
  },
  {
   "cell_type": "code",
   "execution_count": null,
   "metadata": {},
   "outputs": [],
   "source": [
    "grid_cat.fit(X_train, y_train.values.ravel())"
   ]
  },
  {
   "cell_type": "code",
   "execution_count": null,
   "metadata": {},
   "outputs": [],
   "source": [
    "get_best_score(grid_cat)"
   ]
  },
  {
   "cell_type": "code",
   "execution_count": null,
   "metadata": {},
   "outputs": [],
   "source": [
    "cat_params = {\n",
    "  'model__depth': [7, 8, 9],\n",
    "  'model__learning_rate' : [0.03, 0.04],\n",
    "  'model__iterations': [50, 60]\n",
    "}\n",
    "\n",
    "cat_model = Pipeline(steps = [\n",
    "    (\"preprocessing\", ColumnTransformer(transformers = [\n",
    "        (\"num_column\", Pipeline(steps = [\n",
    "            (\"imputer\", SimpleImputer()),\n",
    "            (\"scaler\", StandardScaler()),\n",
    "        ]), numerical_feats),\n",
    "    ])),\n",
    "    (\"model\", CatBoostClassifier())\n",
    "])"
   ]
  },
  {
   "cell_type": "code",
   "execution_count": null,
   "metadata": {},
   "outputs": [],
   "source": [
    "grid_cat = GridSearchCV(cat_model, cat_params, cv = 5)"
   ]
  },
  {
   "cell_type": "code",
   "execution_count": null,
   "metadata": {},
   "outputs": [],
   "source": [
    "grid_cat.fit(X_train, y_train.values.ravel())"
   ]
  },
  {
   "cell_type": "code",
   "execution_count": null,
   "metadata": {},
   "outputs": [],
   "source": [
    "get_best_score(grid_cat)"
   ]
  },
  {
   "cell_type": "markdown",
   "metadata": {},
   "source": [
    "After using two different parameters and getting the same score of 0.93, I decided to use one of the best parameters out of two dictionaries. Namely, {'model__depth': 8, 'model__iterations': 50, 'model__learning_rate': 0.03}"
   ]
  },
  {
   "cell_type": "code",
   "execution_count": 33,
   "metadata": {},
   "outputs": [],
   "source": [
    "cat_model = Pipeline(steps = [\n",
    "    (\"preprocessing\", ColumnTransformer(transformers = [\n",
    "        (\"num_column\", Pipeline(steps = [\n",
    "            (\"imputer\", SimpleImputer(strategy='most_frequent')),\n",
    "            (\"scaler\", StandardScaler()),\n",
    "        ]), numerical_feats),\n",
    "    ])),\n",
    "    (\"model\", CatBoostClassifier(\n",
    "      depth = 8, \n",
    "      iterations = 50,\n",
    "      l2_leaf_reg = 8.069839986047254,\n",
    "      learning_rate = 0.29037681714266655\n",
    "    ))\n",
    "])"
   ]
  },
  {
   "cell_type": "code",
   "execution_count": 34,
   "metadata": {},
   "outputs": [
    {
     "name": "stdout",
     "output_type": "stream",
     "text": [
      "0:\tlearn: 0.5001075\ttotal: 9.23ms\tremaining: 452ms\n",
      "1:\tlearn: 0.3916225\ttotal: 13.8ms\tremaining: 331ms\n",
      "2:\tlearn: 0.3254346\ttotal: 18.2ms\tremaining: 285ms\n",
      "3:\tlearn: 0.2818455\ttotal: 22.9ms\tremaining: 263ms\n",
      "4:\tlearn: 0.2524425\ttotal: 28.1ms\tremaining: 253ms\n",
      "5:\tlearn: 0.2328753\ttotal: 33.7ms\tremaining: 247ms\n",
      "6:\tlearn: 0.2200882\ttotal: 37.7ms\tremaining: 232ms\n",
      "7:\tlearn: 0.2109194\ttotal: 43.2ms\tremaining: 227ms\n",
      "8:\tlearn: 0.2040907\ttotal: 48ms\tremaining: 219ms\n",
      "9:\tlearn: 0.1996408\ttotal: 52.9ms\tremaining: 212ms\n",
      "10:\tlearn: 0.1964761\ttotal: 58.6ms\tremaining: 208ms\n",
      "11:\tlearn: 0.1944797\ttotal: 63.7ms\tremaining: 202ms\n",
      "12:\tlearn: 0.1923044\ttotal: 68.6ms\tremaining: 195ms\n",
      "13:\tlearn: 0.1911453\ttotal: 74.2ms\tremaining: 191ms\n",
      "14:\tlearn: 0.1901130\ttotal: 79.3ms\tremaining: 185ms\n",
      "15:\tlearn: 0.1893754\ttotal: 84.3ms\tremaining: 179ms\n",
      "16:\tlearn: 0.1888883\ttotal: 89.5ms\tremaining: 174ms\n",
      "17:\tlearn: 0.1883484\ttotal: 94.5ms\tremaining: 168ms\n",
      "18:\tlearn: 0.1880147\ttotal: 99.5ms\tremaining: 162ms\n",
      "19:\tlearn: 0.1876557\ttotal: 105ms\tremaining: 158ms\n",
      "20:\tlearn: 0.1871736\ttotal: 110ms\tremaining: 152ms\n",
      "21:\tlearn: 0.1866919\ttotal: 115ms\tremaining: 147ms\n",
      "22:\tlearn: 0.1865286\ttotal: 120ms\tremaining: 141ms\n",
      "23:\tlearn: 0.1862662\ttotal: 125ms\tremaining: 136ms\n",
      "24:\tlearn: 0.1859361\ttotal: 131ms\tremaining: 131ms\n",
      "25:\tlearn: 0.1857642\ttotal: 136ms\tremaining: 126ms\n",
      "26:\tlearn: 0.1854811\ttotal: 143ms\tremaining: 122ms\n",
      "27:\tlearn: 0.1854777\ttotal: 147ms\tremaining: 116ms\n",
      "28:\tlearn: 0.1852893\ttotal: 154ms\tremaining: 111ms\n",
      "29:\tlearn: 0.1852735\ttotal: 159ms\tremaining: 106ms\n",
      "30:\tlearn: 0.1852430\ttotal: 164ms\tremaining: 100ms\n",
      "31:\tlearn: 0.1848386\ttotal: 169ms\tremaining: 95ms\n",
      "32:\tlearn: 0.1847071\ttotal: 174ms\tremaining: 89.8ms\n",
      "33:\tlearn: 0.1845683\ttotal: 179ms\tremaining: 84.3ms\n",
      "34:\tlearn: 0.1845225\ttotal: 184ms\tremaining: 78.9ms\n",
      "35:\tlearn: 0.1843381\ttotal: 189ms\tremaining: 73.6ms\n",
      "36:\tlearn: 0.1843321\ttotal: 194ms\tremaining: 68.1ms\n",
      "37:\tlearn: 0.1841184\ttotal: 200ms\tremaining: 63ms\n",
      "38:\tlearn: 0.1838383\ttotal: 206ms\tremaining: 58.1ms\n",
      "39:\tlearn: 0.1838272\ttotal: 211ms\tremaining: 52.8ms\n",
      "40:\tlearn: 0.1838068\ttotal: 217ms\tremaining: 47.6ms\n",
      "41:\tlearn: 0.1838014\ttotal: 222ms\tremaining: 42.2ms\n",
      "42:\tlearn: 0.1837996\ttotal: 227ms\tremaining: 36.9ms\n",
      "43:\tlearn: 0.1837968\ttotal: 233ms\tremaining: 31.7ms\n",
      "44:\tlearn: 0.1837197\ttotal: 239ms\tremaining: 26.6ms\n",
      "45:\tlearn: 0.1836862\ttotal: 244ms\tremaining: 21.2ms\n",
      "46:\tlearn: 0.1836801\ttotal: 251ms\tremaining: 16ms\n",
      "47:\tlearn: 0.1836734\ttotal: 256ms\tremaining: 10.7ms\n",
      "48:\tlearn: 0.1836712\ttotal: 261ms\tremaining: 5.32ms\n",
      "49:\tlearn: 0.1836245\ttotal: 266ms\tremaining: 0us\n"
     ]
    },
    {
     "data": {
      "text/plain": [
       "Pipeline(steps=[('preprocessing',\n",
       "                 ColumnTransformer(transformers=[('num_column',\n",
       "                                                  Pipeline(steps=[('imputer',\n",
       "                                                                   SimpleImputer(strategy='most_frequent')),\n",
       "                                                                  ('scaler',\n",
       "                                                                   StandardScaler())]),\n",
       "                                                  Index(['age', 'number_dependent_family_members', 'monthly_income',\n",
       "       'number_of_credit_lines', 'real_estate_loans',\n",
       "       'ratio_debt_payment_to_income', 'credit_line_utilization',\n",
       "       'number_of_previous_late_payments_up_to_59_days',\n",
       "       'number_of_previous_late_payments_up_to_89_days',\n",
       "       'number_of_previous_late_payments_90_days_or_more'],\n",
       "      dtype='object'))])),\n",
       "                ('model',\n",
       "                 <catboost.core.CatBoostClassifier object at 0x7fdd82362e80>)])"
      ]
     },
     "execution_count": 34,
     "metadata": {},
     "output_type": "execute_result"
    }
   ],
   "source": [
    "cat_model.fit(X_train, y_train.values.ravel())"
   ]
  },
  {
   "cell_type": "code",
   "execution_count": 35,
   "metadata": {},
   "outputs": [
    {
     "name": "stdout",
     "output_type": "stream",
     "text": [
      "Train data:\n",
      "Accuracy score:  0.9381744271988175\n",
      "Recall score:  0.6952636282394995\n",
      "F1 score:  0.31742146062831494\n",
      "Roc_auc score:  0.8192832923937445\n",
      "__________________________________\n",
      "Test data\n",
      "Accuracy score:  0.9352031483842359\n",
      "Recall score:  0.5804749340369393\n",
      "F1 score:  0.27346177750155376\n",
      "Roc_auc score:  0.7616450086332358\n"
     ]
    }
   ],
   "source": [
    "from sklearn.metrics import accuracy_score, f1_score, recall_score, roc_auc_score\n",
    "print(\"Train data:\")\n",
    "print(\"Accuracy score: \", accuracy_score(cat_model.predict(X_train),y_train))\n",
    "print(\"Recall score: \", recall_score(cat_model.predict(X_train),y_train))\n",
    "print(\"F1 score: \", f1_score(cat_model.predict(X_train),y_train))\n",
    "print(\"Roc_auc score: \", roc_auc_score(cat_model.predict(X_train),y_train))\n",
    "print(\"__________________________________\")\n",
    "print(\"Test data\")\n",
    "print(\"Accuracy score: \", accuracy_score(cat_model.predict(X_test),y_test))\n",
    "print(\"Recall score: \", recall_score(cat_model.predict(X_test),y_test))\n",
    "print(\"F1 score: \", f1_score(cat_model.predict(X_test),y_test))\n",
    "print(\"Roc_auc score: \", roc_auc_score(cat_model.predict(X_test),y_test))"
   ]
  },
  {
   "cell_type": "code",
   "execution_count": 37,
   "metadata": {},
   "outputs": [],
   "source": [
    "# test_data.drop([\"Id\"], axis = 1, inplace = True)\n",
    "\n",
    "cat_trial_df = pd.DataFrame({\n",
    "  \"Id\": range(1, 48109),\n",
    "  \"Predicted\": cat_model.predict_proba(test_data)[:,1]\n",
    "})"
   ]
  },
  {
   "cell_type": "code",
   "execution_count": 38,
   "metadata": {},
   "outputs": [],
   "source": [
    "cat_trial_df.to_csv(\"test_csv\",index = False)"
   ]
  }
 ],
 "metadata": {
  "interpreter": {
   "hash": "780e16a89e83d3df8ed417b1c8f8ec6ba386ac6d5a8f805e73c81baa4a51ede6"
  },
  "kernelspec": {
   "display_name": "Python 3.8.8 ('base')",
   "language": "python",
   "name": "python3"
  },
  "language_info": {
   "codemirror_mode": {
    "name": "ipython",
    "version": 3
   },
   "file_extension": ".py",
   "mimetype": "text/x-python",
   "name": "python",
   "nbconvert_exporter": "python",
   "pygments_lexer": "ipython3",
   "version": "3.8.8"
  },
  "orig_nbformat": 4
 },
 "nbformat": 4,
 "nbformat_minor": 2
}
